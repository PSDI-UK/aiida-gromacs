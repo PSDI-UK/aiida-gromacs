{
 "cells": [
  {
   "cell_type": "markdown",
   "metadata": {},
   "source": [
    "# Advanced Data Provenance with aiida-gromacs"
   ]
  },
  {
   "cell_type": "markdown",
   "metadata": {},
   "source": [
    "## Introduction"
   ]
  },
  {
   "cell_type": "markdown",
   "metadata": {},
   "source": [
    "### Who is this tutorial for?\n",
    "This tutorial is aimed at molecular dynamics simulators who want to keep track of each step used to build and setup simulations of biomolecular systems. \n",
    "\n",
    "### Why not just use a script to keep a record of simulation steps?\n",
    "As simulation protocols vary between practictioners, it is often difficult to ascertain how simulations are performed to generate the dynamics of molecular systems. Generation of scripts to automate steps performed is currently the only method used to keep track of simulation steps. However, scripts do not have standardised formats and do not track what inputs are used or what outputs are produced from each command. \n",
    "\n",
    "### How can we track complex simulation protocols?\n",
    "In this tutorial, we will setup and run a coarse-grained simulation of the active state PTH2R protein via the aiida-gromacs plugin. We will show how commands are written and provenance is saved in realtime for a simulation workflow. The files inputted and outputted for each command, along with the connections between them are saved in a consistent format in an aiida database archive file (SQLite format). This output not only shows what we did, but also how we did it, making it easy to reuse and reproduce our protocol. \n"
   ]
  },
  {
   "cell_type": "markdown",
   "metadata": {},
   "source": [
    "### Tutorial Overview\n",
    "\n",
    "<center><img src=\"PTH2R_coarse-grained_files/images/diagram-workflow-overview.png\" alt=\"Summary of the steps covered to produce the starting molecular system for simulation\" width=\"60%\" /></center>"
   ]
  },
  {
   "cell_type": "markdown",
   "metadata": {},
   "source": [
    "## Software and environment requirements"
   ]
  },
  {
   "cell_type": "markdown",
   "metadata": {},
   "source": [
    "* [``martinize2``](https://pypi.org/project/vermouth/) is used to convert from atomistic to coarse-grained structures. \n",
    "\n",
    "* [``dssp``](https://anaconda.org/salilab/dssp) is used by ``martinize2`` to find secondary structures in the protein.\n",
    "\n",
    "* A modified [``insane``](https://github.com/Tsjerk/Insane) script is used to build the coarse-grained system.\n",
    "\n",
    "* A local installation of [GROMACS](https://www.gromacs.org/) is required to perform molecular dynamics simulations.\n",
    "\n",
    "* [aiida-gromacs](https://aiida-gromacs.readthedocs.io/en/latest/user_guide/installation.html#plugin-installation) is used to keep track of all the commands used to setup and perform the simulation. \n",
    "\n",
    "Activate the conda environment that aiida-gromacs and AiiDA are installed in for this tutorial. We then need to start the AiiDA database and daemon using the first three steps from our [user guide](https://aiida-gromacs.readthedocs.io/en/latest/user_guide/aiida_sessions.html#start-stop-aiida)."
   ]
  },
  {
   "cell_type": "markdown",
   "metadata": {},
   "source": [
    "## AiiDA under the hood"
   ]
  },
  {
   "cell_type": "markdown",
   "metadata": {},
   "source": [
    "We use aiida-gromacs to track commands run on the CLI, which is a plugin for AiiDA software. Here's a brief description of what is going on under the hood when running aiida-gromacs; \n",
    "* AiiDA uses a [PostgreSQL](https://www.postgresql.org) database to store all data produced and the links between input and output files for each command run. Each submitted command is termed a process in AiiDA. \n",
    "* Communication between submitted processes are handled with [RabbitMQ](https://www.rabbitmq.com/) and submitted processes are handled with a deamon process that runs in the background. \n",
    "* AiiDA has a built-in CLI utility called ``verdi``, which we will use to view the status of the submitted processes, you can do this at any time with the following command:"
   ]
  },
  {
   "cell_type": "code",
   "execution_count": null,
   "metadata": {},
   "outputs": [],
   "source": [
    "! verdi process list -a"
   ]
  },
  {
   "cell_type": "markdown",
   "metadata": {},
   "source": [
    "A successfully finished process will exit with code [0]. "
   ]
  },
  {
   "cell_type": "markdown",
   "metadata": {},
   "source": [
    "## Coarse-grained MD Simulation Data Provenance with aiida-gromacs"
   ]
  },
  {
   "cell_type": "markdown",
   "metadata": {},
   "source": [
    "In this tutorial, we will go through how to set-up a coarse-grained molecular system of a PTH2R (Parathyroid hormone receptor type 2) protein embedded in a lipid bilayer membrane along with water and counter-ions. We will use the command-line tools provided in aiida-gromacs to track each step performed on the terminal."
   ]
  },
  {
   "cell_type": "markdown",
   "metadata": {},
   "source": [
    "<center><img src=\"PTH2R_coarse-grained_files/images/gpcr_membrane.png\" alt=\"GPCR in a model plasma membrane. Each lipid is coloured differently.\" width=\"60%\"/></center>"
   ]
  },
  {
   "cell_type": "markdown",
   "metadata": {},
   "source": [
    "### Aquiring and tidying up the receptor protein structure"
   ]
  },
  {
   "cell_type": "markdown",
   "metadata": {},
   "source": [
    "Our starting point is the PTH2R [structure](https://gpcrdb.org/protein/pth2r_human/) from the GPCRdb. \n",
    "\n",
    "1. First, we download the PTH2R protein from the GPCRdb using `curl`. We will track our commands as we perform them using the `genericMD` command in aiida-gromacs: "
   ]
  },
  {
   "cell_type": "code",
   "execution_count": null,
   "metadata": {},
   "outputs": [],
   "source": [
    "%mkdir PTH2R_coarse-grained_files/protein\n",
    "%cd PTH2R_coarse-grained_files/protein\n",
    "PTH2R=\"ClassB1_pth2r_human_Active_AF_2024-05-15_GPCRdb\""
   ]
  },
  {
   "cell_type": "code",
   "execution_count": null,
   "metadata": {},
   "outputs": [],
   "source": [
    "! genericMD --code bash@localhost \\\n",
    "--command \"curl https://gpcrdb.org/structure/homology_models/pth2r_human_active_full/download_pdb -o {PTH2R}.zip \" \\\n",
    "--outputs {PTH2R}.zip"
   ]
  },
  {
   "cell_type": "markdown",
   "metadata": {},
   "source": [
    "We can check that the command has run successfully with:"
   ]
  },
  {
   "cell_type": "code",
   "execution_count": null,
   "metadata": {},
   "outputs": [],
   "source": [
    "! verdi process list -a"
   ]
  },
  {
   "cell_type": "markdown",
   "metadata": {},
   "source": [
    "2. We then need to `unzip` the downloaded file:"
   ]
  },
  {
   "cell_type": "code",
   "execution_count": null,
   "metadata": {},
   "outputs": [],
   "source": [
    "! genericMD --code bash@localhost \\\n",
    "--command \"unzip {PTH2R}.zip\" \\\n",
    "--inputs {PTH2R}.zip --outputs {PTH2R}.pdb"
   ]
  },
  {
   "cell_type": "code",
   "execution_count": null,
   "metadata": {},
   "outputs": [],
   "source": [
    "! verdi process list -a"
   ]
  },
  {
   "cell_type": "markdown",
   "metadata": {},
   "source": [
    "3. Now that we have the pdb file, we can remove regions of low confidence at the start and end of the receptor chain. We use the `sed` command to programmatically delete lines that correspond to low confidence regions between residues 1-31 and 435-550 inclusive. \n"
   ]
  },
  {
   "cell_type": "code",
   "execution_count": null,
   "metadata": {},
   "outputs": [],
   "source": [
    "! genericMD --code bash@localhost \\\n",
    "--command \"sed -i -e '1,217d;3502,4387d' {PTH2R}.pdb\" \\\n",
    "--inputs {PTH2R}.pdb \\\n",
    "--outputs {PTH2R}.pdb"
   ]
  },
  {
   "cell_type": "code",
   "execution_count": null,
   "metadata": {},
   "outputs": [],
   "source": [
    "! verdi process list -a"
   ]
  },
  {
   "cell_type": "markdown",
   "metadata": {},
   "source": [
    "### Aligning PTH2R to a correctly orientated structure"
   ]
  },
  {
   "cell_type": "markdown",
   "metadata": {},
   "source": [
    "4. Next, we download the correctly orientated structure from the OPM database."
   ]
  },
  {
   "cell_type": "code",
   "execution_count": null,
   "metadata": {},
   "outputs": [],
   "source": [
    "! genericMD --code bash@localhost \\\n",
    "--command \"curl https://opm-assets.storage.googleapis.com/pdb/7f16.pdb -o PTH2R_opm.pdb \" \\\n",
    "--outputs PTH2R_opm.pdb"
   ]
  },
  {
   "cell_type": "code",
   "execution_count": null,
   "metadata": {},
   "outputs": [],
   "source": [
    "! verdi process list -a"
   ]
  },
  {
   "cell_type": "markdown",
   "metadata": {},
   "source": [
    "5. PTH2R is a receptor for the parathyroid hormone and the OPM downloaded structure contains the coupled G-protein along with other bound molecules. We will keep only the receptor using the `sed` command to remove lines that do not correspond to the receptor:"
   ]
  },
  {
   "cell_type": "code",
   "execution_count": null,
   "metadata": {},
   "outputs": [],
   "source": [
    "! genericMD --code bash@localhost \\\n",
    "--command \"sed -i -e '2,761d;3835,13708d' PTH2R_opm.pdb\" \\\n",
    "--inputs PTH2R_opm.pdb \\\n",
    "--outputs PTH2R_opm.pdb"
   ]
  },
  {
   "cell_type": "code",
   "execution_count": null,
   "metadata": {},
   "outputs": [],
   "source": [
    "! verdi process list -a"
   ]
  },
  {
   "cell_type": "markdown",
   "metadata": {},
   "source": [
    "The final step for preparing the PTH2R protein is to position the structure in the correct orientation by aligning against the structure downloaded from the OPM database. There are a few ways to orientate the protein, here we use the orientations of proteins in membranes (OPM) database [structure](https://opm.phar.umich.edu/proteins/7900) as a template to align our protein with. The OPM structure is correctly orientated to fit around a membrane and uses the [7F16](https://www.rcsb.org/structure/7F16) PDB deposited structure, however, this structure has missing atoms, so we cannot use this structure directly. There is an option to use the PPM webserver to orientate the protein correctly, however, no command-line tool is currently available, so we will not use this here.\n",
    "\n",
    "6. We use the `confrms` command in GROMACS to align our structure. We will carry on using `genericMD` to track this command and use the `echo` command to include the interactive options required by `confrms`:"
   ]
  },
  {
   "cell_type": "code",
   "execution_count": null,
   "metadata": {},
   "outputs": [],
   "source": [
    "! genericMD --code bash@localhost \\\n",
    "--command \"echo -e '0 | 0 \\n q' | gmx confrms -f1 PTH2R_opm.pdb -f2 {PTH2R}.pdb -name -one -o PTH2R_fit.pdb\" \\\n",
    "--inputs PTH2R_opm.pdb --inputs {PTH2R}.pdb \\\n",
    "--outputs PTH2R_fit.pdb"
   ]
  },
  {
   "cell_type": "code",
   "execution_count": null,
   "metadata": {},
   "outputs": [],
   "source": [
    "! verdi process list -a"
   ]
  },
  {
   "cell_type": "markdown",
   "metadata": {},
   "source": [
    "### Building a coarse-grained system from an atomic structure"
   ]
  },
  {
   "cell_type": "markdown",
   "metadata": {},
   "source": [
    "Now that we have the correct starting structure of the receptor, we move onto coarse-graining.\n",
    "\n",
    "7. We use Martinize2 to coarse-grain the atomistic structure and produce a GROMACS topology file"
   ]
  },
  {
   "cell_type": "code",
   "execution_count": null,
   "metadata": {},
   "outputs": [],
   "source": [
    "%mkdir ../martinize\n",
    "%cp PTH2R_fit.pdb ../martinize\n",
    "%cd ../martinize"
   ]
  },
  {
   "cell_type": "code",
   "execution_count": null,
   "metadata": {},
   "outputs": [],
   "source": [
    "! genericMD --code martinize2@localhost --command \"-f PTH2R_fit.pdb -o PTH2R_opm.top -x PTH2R_opm.cg.pdb -ff martini3001 -nt -dssp -elastic -p backbone -maxwarn 1 -mutate HSD:HIS -mutate HSP:HIH -ignh -cys auto\" \\\n",
    "--inputs PTH2R_fit.pdb \\\n",
    "--outputs PTH2R_opm.top --outputs PTH2R_opm.cg.pdb --outputs molecule_0.itp"
   ]
  },
  {
   "cell_type": "code",
   "execution_count": null,
   "metadata": {},
   "outputs": [],
   "source": [
    "! verdi process list -a"
   ]
  },
  {
   "cell_type": "markdown",
   "metadata": {},
   "source": [
    "### Adding the membrane and solution around the protein with ``insane``"
   ]
  },
  {
   "cell_type": "markdown",
   "metadata": {},
   "source": [
    "8. Next, we use our custom insane python script to embed the protein into a lipid bilayer and solvate the system. Our insane script is modified from [the Melo lab](https://github.com/MeloLab/PhosphoinositideParameters/blob/main/martini3/insane.py), it has been updated to python3 and contains additional parameters for the GM3 carbohydrate. "
   ]
  },
  {
   "cell_type": "code",
   "execution_count": null,
   "metadata": {},
   "outputs": [],
   "source": [
    "! cp PTH2R_opm.cg.pdb PTH2R_opm.top molecule_0.itp ../insane\n",
    "%cd ../insane"
   ]
  },
  {
   "cell_type": "code",
   "execution_count": null,
   "metadata": {},
   "outputs": [],
   "source": [
    "! genericMD --code python@localhost --command \"insane_custom.py -f PTH2R_opm.cg.pdb -o solvated.gro -p system.top -pbc rectangular -box 18,18,17 -u POPC:25 -u DOPC:25 -u POPE:8 -u DOPE:7 -u CHOL:25 -u DPG3:10 -l POPC:5 -l DOPC:5 -l POPE:20 -l DOPE:20 -l CHOL:25 -l POPS:8 -l DOPS:7 -l POP2:10 -sol W\" \\\n",
    "--inputs insane_custom.py --inputs PTH2R_opm.cg.pdb \\\n",
    "--outputs solvated.gro --outputs system.top"
   ]
  },
  {
   "cell_type": "code",
   "execution_count": null,
   "metadata": {},
   "outputs": [],
   "source": [
    "! verdi process list -a"
   ]
  },
  {
   "cell_type": "markdown",
   "metadata": {},
   "source": [
    "### Preparing the system for simulation"
   ]
  },
  {
   "cell_type": "markdown",
   "metadata": {},
   "source": [
    "9. Once the topology file is created, we need to include all the itp files containing the force field parameters used to describe interactions between beads. We use the `sed` command again to edit the `system.top` file directly on the command-line and we submit this command via `genericMD` as with the previous commands."
   ]
  },
  {
   "cell_type": "code",
   "execution_count": null,
   "metadata": {},
   "outputs": [],
   "source": [
    "sed_command1='sed -i -e \"1 s/^/#include \\\\\"toppar\\/martini_v3.0.0.itp\\\\\"\\\\n#include \\\\\"toppar\\/martini_v3.0.0_ions_v1.itp\\\\\"\\\\n#include \\\\\"toppar\\/martini_v3.0.0_solvents_v1.itp\\\\\"\\\\n#include \\\\\"toppar\\/martini_v3.0.0_phospholipids_v1.itp\\\\\"\\\\n#include \\\\\"martini_v3.0_sterols_v1.0.itp\\\\\"\\\\n#include \\\\\"POP2.itp\\\\\"\\\\n#include \\\\\"molecule_0.itp\\\\\"\\\\n#include \\\\\"gm3_final.itp\\\\\"\\\\n/\" '\\\n",
    "'-e \"s/Protein/molecule_0/\" '\\\n",
    "'-e \"s/#include \\\\\"martini.itp\\\\\"/\\\\n/\" system.top'\n",
    "! genericMD --code bash@localhost \\\n",
    "--command '{sed_command1}' \\\n",
    "--inputs system.top \\\n",
    "--outputs system.top"
   ]
  },
  {
   "cell_type": "code",
   "execution_count": null,
   "metadata": {},
   "outputs": [],
   "source": [
    "! verdi process list -a"
   ]
  },
  {
   "cell_type": "markdown",
   "metadata": {},
   "source": [
    "10. We also need to edit the `molecule_0.itp` file generated from the Martinize2 step to include positional restraints on the coarse-grained beads."
   ]
  },
  {
   "cell_type": "code",
   "execution_count": null,
   "metadata": {},
   "outputs": [],
   "source": [
    "sed_command2='sed -i -e \"s/1000 1000 1000/POSRES_FC    POSRES_FC    POSRES_FC/g\" '\\\n",
    "'-e \"s/#ifdef POSRES/#ifdef POSRES\\\\n#ifndef POSRES_FC\\\\n#define POSRES_FC 1000.00\\\\n#endif/\" '\\\n",
    "'molecule_0.itp'\n",
    "! genericMD --code bash@localhost \\\n",
    "--command '{sed_command2}' \\\n",
    "--inputs molecule_0.itp \\\n",
    "--outputs molecule_0.itp"
   ]
  },
  {
   "cell_type": "code",
   "execution_count": null,
   "metadata": {},
   "outputs": [],
   "source": [
    "! verdi process list -a"
   ]
  },
  {
   "cell_type": "markdown",
   "metadata": {},
   "source": [
    "11. Ions need to be added to neutralise the system and we can construct the GROMACS `.tpr` binary file containing the system configuration, topology and input parameters for the next step. We use the `gmx_grompp` command (note the underscore), which is wrapper command to run `gmx` via aiida-gromacs. We have included the most popular `gmx` commands in aiida-gromacs, the list of these are provided [here](https://aiida-gromacs.readthedocs.io/en/latest/user_guide/cli_interface.html)."
   ]
  },
  {
   "cell_type": "code",
   "execution_count": null,
   "metadata": {},
   "outputs": [],
   "source": [
    "! cp molecule_0.itp solvated.gro system.top ../gromacs\n",
    "%cd ../gromacs"
   ]
  },
  {
   "cell_type": "code",
   "execution_count": null,
   "metadata": {},
   "outputs": [],
   "source": [
    "! gmx_grompp -f ions.mdp -c solvated.gro -p system.top -o ions.tpr"
   ]
  },
  {
   "cell_type": "code",
   "execution_count": null,
   "metadata": {},
   "outputs": [],
   "source": [
    "! verdi process list -a"
   ]
  },
  {
   "cell_type": "markdown",
   "metadata": {},
   "source": [
    "12. The `gmx_genion` command is then used to add the ions to reach a particular salt concentration and neutralise the system. As the `genion` command requires interactive user inputs, we can provide these in as an additional text file via the `--instructions` argument. Each interactive response can be provided on a new line in the input text file. In this example, we replace solvent `W` with ions"
   ]
  },
  {
   "cell_type": "code",
   "execution_count": null,
   "metadata": {},
   "outputs": [],
   "source": [
    "! gmx_genion -s ions.tpr -o solvated_ions.gro -p system.top -pname NA -nname CL -conc 0.15 -neutral true --instructions inputs_genion.txt"
   ]
  },
  {
   "cell_type": "code",
   "execution_count": null,
   "metadata": {},
   "outputs": [],
   "source": [
    "! verdi process list -a"
   ]
  },
  {
   "cell_type": "markdown",
   "metadata": {},
   "source": [
    "13. Lastly, we will use a `gmx_make_ndx` to create new index groups for the membrane and solute consituents"
   ]
  },
  {
   "cell_type": "code",
   "execution_count": null,
   "metadata": {},
   "outputs": [],
   "source": [
    "! gmx_make_ndx -f solvated_ions.gro -o index.ndx --instructions inputs_index.txt"
   ]
  },
  {
   "cell_type": "markdown",
   "metadata": {},
   "source": [
    "### Saving and viewing all the steps used to build the system"
   ]
  },
  {
   "cell_type": "markdown",
   "metadata": {},
   "source": [
    "We have built our starting configuration of an embedded protein in a lipid bilayer, hurray!"
   ]
  },
  {
   "cell_type": "markdown",
   "metadata": {},
   "source": [
    "We can check again that all our commands ran successfully using `verdi`:"
   ]
  },
  {
   "cell_type": "code",
   "execution_count": null,
   "metadata": {},
   "outputs": [],
   "source": [
    "! verdi process list -a"
   ]
  },
  {
   "cell_type": "markdown",
   "metadata": {},
   "source": [
    "To view all the currently run commands in each process, the input files used in each command and the output files produced from each command, we can use:"
   ]
  },
  {
   "cell_type": "code",
   "execution_count": null,
   "metadata": {},
   "outputs": [],
   "source": [
    "! verdi data provenance show"
   ]
  },
  {
   "cell_type": "markdown",
   "metadata": {},
   "source": [
    "We can also visualise the provenance graph of these processes, which shows how inputs and outputs of each process are connected to other processes. To save the provenance graph of all finished processes, replace the primary key value <PK> in the command below with that of the most recently run process."
   ]
  },
  {
   "cell_type": "code",
   "execution_count": null,
   "metadata": {},
   "outputs": [],
   "source": [
    "! verdi node graph generate <PK>"
   ]
  },
  {
   "cell_type": "markdown",
   "metadata": {},
   "source": [
    "<center><img src=\"PTH2R_coarse-grained_files/images/94.dot.png\" alt=\"Provenance graph for this tutorial\" width=\"60%\" /></center>"
   ]
  },
  {
   "cell_type": "markdown",
   "metadata": {},
   "source": [
    "At the end of a project, the AiiDA database can be saved as an AiiDA archive file (sqlite/zip format) for long term storage and to share your data and provenance with others. This archive file contains all the input and output files for each process, as well as how they are connected."
   ]
  },
  {
   "cell_type": "code",
   "execution_count": null,
   "metadata": {},
   "outputs": [],
   "source": [
    "! verdi archive create --all archive.aiida"
   ]
  },
  {
   "cell_type": "markdown",
   "metadata": {},
   "source": [
    "In the next tutorial, steps for preparing this system for a production simulation are covered."
   ]
  }
 ],
 "metadata": {
  "kernelspec": {
   "display_name": "gpcr_tutorial",
   "language": "python",
   "name": "python3"
  },
  "language_info": {
   "codemirror_mode": {
    "name": "ipython",
    "version": 3
   },
   "file_extension": ".py",
   "mimetype": "text/x-python",
   "name": "python",
   "nbconvert_exporter": "python",
   "pygments_lexer": "ipython3",
   "version": "3.11.0"
  }
 },
 "nbformat": 4,
 "nbformat_minor": 2
}
